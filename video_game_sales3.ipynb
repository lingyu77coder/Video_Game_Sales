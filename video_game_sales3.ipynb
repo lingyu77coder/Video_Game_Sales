{
 "cells": [
  {
   "cell_type": "markdown",
   "metadata": {},
   "source": [
    "#             数据挖掘互评作业3-Video Game Sales"
   ]
  },
  {
   "cell_type": "markdown",
   "metadata": {},
   "source": [
    "一、加载数据，统计缺失数据"
   ]
  },
  {
   "cell_type": "code",
   "execution_count": 2,
   "metadata": {},
   "outputs": [
    {
     "name": "stderr",
     "output_type": "stream",
     "text": [
      "e:\\python37\\lib\\site-packages\\ipykernel_launcher.py:1: FutureWarning: The pandas.np module is deprecated and will be removed from pandas in a future version. Import numpy directly instead\n",
      "  \"\"\"Entry point for launching an IPython kernel.\n"
     ]
    },
    {
     "name": "stdout",
     "output_type": "stream",
     "text": [
      "每列缺失的数据个数分别为:\n",
      "Rank              0\n",
      "Name              0\n",
      "Platform          0\n",
      "Year            271\n",
      "Genre             0\n",
      "Publisher        58\n",
      "NA_Sales          0\n",
      "EU_Sales          0\n",
      "JP_Sales          0\n",
      "Other_Sales       0\n",
      "Global_Sales      0\n",
      "dtype: int64\n"
     ]
    }
   ],
   "source": [
    "from pandas import Series,DataFrame,np\n",
    "from numpy import nan as NA\n",
    "import pandas as pd\n",
    "from scipy.interpolate import lagrange\n",
    "import matplotlib.pyplot as plt\n",
    "\n",
    "\n",
    "#1.加载数据\n",
    "def load_data(path,filename):\n",
    "    return pd.read_csv(path + '/' + filename)\n",
    "root = 'E:\\\\'\n",
    "data = load_data(root,'vgsales.csv')#中文\n",
    "\n",
    "#2.缺失数据统计 -列\n",
    "data.isnull().sum()\n",
    "print(\"每列缺失的数据个数分别为:\")\n",
    "print(data.isnull().sum())\n"
   ]
  },
  {
   "cell_type": "markdown",
   "metadata": {},
   "source": [
    "二、缺失值处理\n",
    "缺失属性值情况：Pulisher 缺58个，Year 缺 271个\n",
    "1）观察发现Publisher与Platform属性关联较密切，根据上下文进行填充\n",
    "2）Year与其他属性无明显关联，故删除缺失的Year\n",
    "3）输出处理后的数据缺失情况，确保无缺失值"
   ]
  },
  {
   "cell_type": "code",
   "execution_count": 3,
   "metadata": {},
   "outputs": [
    {
     "name": "stdout",
     "output_type": "stream",
     "text": [
      "Publisher根据Platform值进行填补\n",
      "Year删除缺失值\n",
      "填补后数据的缺失个数分别为: Rank            0\n",
      "Name            0\n",
      "Platform        0\n",
      "Year            0\n",
      "Genre           0\n",
      "Publisher       0\n",
      "NA_Sales        0\n",
      "EU_Sales        0\n",
      "JP_Sales        0\n",
      "Other_Sales     0\n",
      "Global_Sales    0\n",
      "dtype: int64\n",
      "删除重复数据\n",
      "处理后的数据行数为: 16327\n"
     ]
    }
   ],
   "source": [
    "#3.1 缺失值填补-Publisher属性有缺失值，其与Platform属性关联较多，可按上下文进行填充\n",
    "print(\"Publisher根据Platform值进行填补\")\n",
    "# 查看Publisher特征缺失处对应的包含Publisher所需要的信息的Platform特征的具体情况\n",
    "Publisher_locationdes=data.loc[data['Publisher'].isnull(), 'Platform']\n",
    "# 定位到Publisher特征缺失信息的具体位置\n",
    "Publisher_loc=data.loc[data['Publisher'].isnull(), 'Platform']\n",
    "# 结合前面两步，利用字符串提取来补充Publisher的缺失信息\n",
    "data.loc[data['Publisher'].isnull(), 'Publisher'] = [str(x)[0: len(str(x))] for x in \n",
    "\n",
    "Publisher_locationdes]\n",
    "\n",
    "#3.2删除缺失值-Year——无法根据其他信息推断出版时间，所以删除\n",
    "print(\"Year删除缺失值\")\n",
    "#因为缺失值位于同一行，所以用Agency代表\n",
    "data=data.dropna(axis=0,subset=['Year'])\n",
    "\n",
    "\n",
    "#检验缺失值处理后是否还存在缺失值\n",
    "print(\"填补后数据的缺失个数分别为:\",data.isnull().sum())\n",
    "\n",
    "#4.删除重复数据\n",
    "print(\"删除重复数据\")\n",
    "#去重,默认保留前一个\n",
    "df=data.drop_duplicates()\n",
    "\n",
    "\n",
    "print(\"处理后的数据行数为:\",df.shape[0])"
   ]
  },
  {
   "cell_type": "markdown",
   "metadata": {},
   "source": [
    "三、数据描述"
   ]
  },
  {
   "cell_type": "code",
   "execution_count": 5,
   "metadata": {},
   "outputs": [
    {
     "name": "stdout",
     "output_type": "stream",
     "text": [
      "汇总和描述等统计量的计算\n",
      "对数据的基本统计量进行描述,得到每列数据的行数、平均值、协方差、最小值、四分之一分位数、中位数、四分之三分位数、最大值\n",
      "               Rank          Year      NA_Sales      EU_Sales      JP_Sales  \\\n",
      "count  16327.000000  16327.000000  16327.000000  16327.000000  16327.000000   \n",
      "mean    8292.868194   2006.406443      0.265415      0.147554      0.078661   \n",
      "std     4792.669778      5.828981      0.821591      0.508766      0.311557   \n",
      "min        1.000000   1980.000000      0.000000      0.000000      0.000000   \n",
      "25%     4136.500000   2003.000000      0.000000      0.000000      0.000000   \n",
      "50%     8295.000000   2007.000000      0.080000      0.020000      0.000000   \n",
      "75%    12441.500000   2010.000000      0.240000      0.110000      0.040000   \n",
      "max    16600.000000   2020.000000     41.490000     29.020000     10.220000   \n",
      "\n",
      "        Other_Sales  Global_Sales  \n",
      "count  16327.000000  16327.000000  \n",
      "mean       0.048325      0.540232  \n",
      "std        0.189885      1.565732  \n",
      "min        0.000000      0.010000  \n",
      "25%        0.000000      0.060000  \n",
      "50%        0.010000      0.170000  \n",
      "75%        0.040000      0.480000  \n",
      "max       10.570000     82.740000  \n"
     ]
    }
   ],
   "source": [
    "#5.汇总和描述等统计量的计算\n",
    "print(\"汇总和描述等统计量的计算\")\n",
    "#对数据的基本统计量进行描述,得到每列数据的行数、平均值、协方差、最小值\n",
    "#、四分之一分位数、中位数、四分之三分位数、最大值\n",
    "print(\"对数据的基本统计量进行描述,得到每列数据的行数、平均值、协方差、最小值、四分之一分位数、中位数、四分之三分位数、最大值\")\n",
    "print(df.describe())"
   ]
  },
  {
   "cell_type": "markdown",
   "metadata": {},
   "source": [
    "四、电子游戏市场分析\n",
    "4.1 统计最受欢迎的游戏\n",
    "4.1.1世界最畅销的20大游戏"
   ]
  },
  {
   "cell_type": "code",
   "execution_count": 6,
   "metadata": {},
   "outputs": [
    {
     "name": "stdout",
     "output_type": "stream",
     "text": [
      "世界最畅销的游戏top20:\n",
      "序号  标题                    销量\n",
      "1   Wii Sports          82.74\n",
      "2   Super Mario  ...     40.24\n",
      "3   Mario Kart Wii          35.82\n",
      "4   Wii Sports R ...     33.0\n",
      "5   Pokemon Red/ ...     31.37\n",
      "6   Tetris               30.26\n",
      "7   New Super Ma ...     30.01\n",
      "8   Wii Play               29.02\n",
      "9   New Super Ma ...     28.62\n",
      "10   Duck Hunt          28.31\n",
      "11   Nintendogs          24.76\n",
      "12   Mario Kart DS          23.42\n",
      "13   Pokemon Gold ...     23.1\n",
      "14   Wii Fit               22.72\n",
      "15   Wii Fit Plus          22.0\n",
      "16   Kinect Adven ...     21.82\n",
      "17   Grand Theft  ...     21.4\n",
      "18   Grand Theft  ...     20.81\n",
      "19   Super Mario  ...     20.61\n",
      "20   Brain Age: T ...     20.22\n"
     ]
    }
   ],
   "source": [
    "print(\"世界最畅销的游戏top20:\")\n",
    "print(\"序号 \",\"标题 \",\"                 \",\"销量\")\n",
    "for i in range(0,20):\n",
    "        if i+1==6 or i+1==8 or i+1==14:\n",
    "            print(i+1,\" \",df.iloc[i,1],\"             \",df.iloc[i,10]) \n",
    "        elif i+1==10 or i+1==11:\n",
    "            print(i+1,\" \",df.iloc[i,1],\"        \",df.iloc[i,10])     \n",
    "        elif len(df.iloc[i,1])<=15:\n",
    "            print(i+1,\" \",df.iloc[i,1],\"        \",df.iloc[i,10])   \n",
    "        else:\n",
    "            print(i+1,\" \",df.iloc[i,1][:12],\"...    \",df.iloc[i,10]) "
   ]
  },
  {
   "cell_type": "markdown",
   "metadata": {},
   "source": [
    "接下来分为北美洲、欧洲、日本和其他地区，分别统计最畅销的top20游戏及销量：\n",
    "4.1.2 北美洲最畅销的20大游戏"
   ]
  },
  {
   "cell_type": "code",
   "execution_count": 7,
   "metadata": {},
   "outputs": [
    {
     "name": "stdout",
     "output_type": "stream",
     "text": [
      "北美洲最畅销的游戏top20:\n",
      "序号  标题                销量\n",
      "1   Wii Sports          41.49\n",
      "2   Super Mario  ...     29.08\n",
      "3   Duck Hunt          26.93\n",
      "4   Tetris              23.2\n",
      "5   Mario Kart W ...     15.85\n",
      "6   Wii Sports Resort    15.75\n",
      "7   Kinect Adven ...     14.97\n",
      "8   New Super Ma ...     14.59\n",
      "9   Wii Play              14.03\n",
      "10   Super Mario  ...     12.78\n",
      "11   New Super Ma ...     11.38\n",
      "12   Pokemon Red/ ...     11.27\n",
      "13   Super Mario  ...     10.83\n",
      "14   Mario Kart DS        9.81\n",
      "15   Call of Duty ...     9.67\n",
      "16   Grand Theft  ...     9.63\n",
      "17   Super Mario  ...     9.54\n",
      "18   Grand Theft  ...     9.43\n",
      "19   Wii Fit Plus ...     9.09\n",
      "20   Nintendogs          9.07\n"
     ]
    }
   ],
   "source": [
    "print(\"北美洲最畅销的游戏top20:\")\n",
    "print(\"序号 \",\"标题 \",\"             \",\"销量\")\n",
    "df_na=df.sort_values(by='NA_Sales',ascending=False)\n",
    "for i in range(0,20):\n",
    "        if i+1==6:\n",
    "            print(i+1,\" \",df_na.iloc[i,1],\"  \",df_na.iloc[i,6]) \n",
    "        elif i+1==14:\n",
    "            print(i+1,\" \",df_na.iloc[i,1],\"      \",df_na.iloc[i,6])\n",
    "        elif i+1==9 or i+1==4:\n",
    "            print(i+1,\" \",df_na.iloc[i,1],\"            \",df_na.iloc[i,6])\n",
    "        elif len(df_na.iloc[i,1])<=10:\n",
    "            print(i+1,\" \",df_na.iloc[i,1],\"        \",df_na.iloc[i,6])   \n",
    "        else:\n",
    "            print(i+1,\" \",df_na.iloc[i,1][:12],\"...    \",df_na.iloc[i,6])  "
   ]
  },
  {
   "cell_type": "markdown",
   "metadata": {},
   "source": [
    "4.1.3 欧洲最畅销的20大游戏"
   ]
  },
  {
   "cell_type": "code",
   "execution_count": 8,
   "metadata": {},
   "outputs": [
    {
     "name": "stdout",
     "output_type": "stream",
     "text": [
      "欧洲最畅销的游戏top20:\n",
      "序号  标题                销量\n",
      "1   Wii Sports          29.02\n",
      "2   Mario Kart W ...     12.88\n",
      "3   Wii Sports Resort          11.01\n",
      "4   Nintendogs              11.0\n",
      "5   Grand Theft  ...     9.27\n",
      "6   Brain Age: Train Your Brain in Minutes a Day    9.26\n",
      "7   New Super Ma ...     9.23\n",
      "8   Wii Play ...     9.2\n",
      "9   Pokemon Red/Pokemon Blue              8.89\n",
      "10   Wii Fit Plus ...     8.59\n",
      "11   Wii Fit ...     8.03\n",
      "12   Mario Kart D ...     7.57\n",
      "13   New Super Ma ...     7.06\n",
      "14   The Sims 3        6.42\n",
      "15   World of War ...     6.21\n",
      "16   Pokemon Gold ...     6.18\n",
      "17   FIFA 16 ...     6.06\n",
      "18   Call of Duty ...     5.88\n",
      "19   Call of Duty ...     5.82\n",
      "20   Call of Duty: Black Ops 3          5.81\n"
     ]
    }
   ],
   "source": [
    "print(\"欧洲最畅销的游戏top20:\")\n",
    "print(\"序号 \",\"标题 \",\"             \",\"销量\")\n",
    "df_eu=df.sort_values(by='EU_Sales',ascending=False)\n",
    "for i in range(0,20):\n",
    "        if i+1==6:\n",
    "            print(i+1,\" \",df_eu.iloc[i,1],\"  \",df_eu.iloc[i,7]) \n",
    "        elif i+1==14:\n",
    "            print(i+1,\" \",df_eu.iloc[i,1],\"      \",df_eu.iloc[i,7])\n",
    "        elif i+1==9 or i+1==4:\n",
    "            print(i+1,\" \",df_eu.iloc[i,1],\"            \",df_eu.iloc[i,7])\n",
    "        elif len(df_na.iloc[i,1])<=10:\n",
    "            print(i+1,\" \",df_eu.iloc[i,1],\"        \",df_eu.iloc[i,7])   \n",
    "        else:\n",
    "            print(i+1,\" \",df_eu.iloc[i,1][:12],\"...    \",df_eu.iloc[i,7]) "
   ]
  },
  {
   "cell_type": "markdown",
   "metadata": {},
   "source": [
    "4.1.4 日本最畅销的20大游戏"
   ]
  },
  {
   "cell_type": "code",
   "execution_count": 9,
   "metadata": {},
   "outputs": [
    {
     "name": "stdout",
     "output_type": "stream",
     "text": [
      "日本最畅销的游戏top20:\n",
      "序号  标题                销量\n",
      "1   Pokemon Red/ ...     10.22\n",
      "2   Pokemon Gold ...     7.2\n",
      "3   Super Mario  ...     6.81\n",
      "4   New Super Ma ...     6.5\n",
      "5   Pokemon Diam ...     6.04\n",
      "6   Pokemon Blac ...     5.65\n",
      "7   Pokemon Ruby ...     5.38\n",
      "8   Animal Cross ...     5.33\n",
      "9   Brain Age 2: ...     5.32\n",
      "10   Monster Hunt ...     4.87\n",
      "11   New Super Ma ...     4.7\n",
      "12   Animal Cross ...     4.36\n",
      "13   Dragon Quest ...     4.35\n",
      "14   Pokemon X/Po ...     4.34\n",
      "15   Tetris              4.22\n",
      "16   Super Mario  ...     4.18\n",
      "17   Brain Age: T ...     4.16\n",
      "18   Monster Hunt ...     4.13\n",
      "19   Mario Kart D ...     4.13\n",
      "20   Dragon Quest ...     4.1\n"
     ]
    }
   ],
   "source": [
    "print(\"日本最畅销的游戏top20:\")\n",
    "print(\"序号 \",\"标题 \",\"             \",\"销量\")\n",
    "df_jp=df.sort_values(by='JP_Sales',ascending=False)\n",
    "for i in range(0,20):\n",
    "        if i+1==15:\n",
    "            print(i+1,\" \",df_jp.iloc[i,1],\"            \",df_jp.iloc[i,8])\n",
    "        elif len(df_jp.iloc[i,1])<=10:\n",
    "            print(i+1,\" \",df_jp.iloc[i,1],\"        \",df_jp.iloc[i,8])   \n",
    "        else:\n",
    "            print(i+1,\" \",df_jp.iloc[i,1][:12],\"...    \",df_jp.iloc[i,8]) \n",
    "\n"
   ]
  },
  {
   "cell_type": "markdown",
   "metadata": {},
   "source": [
    "4.1.5 其他地区最畅销的20大游戏"
   ]
  },
  {
   "cell_type": "code",
   "execution_count": 10,
   "metadata": {},
   "outputs": [
    {
     "name": "stdout",
     "output_type": "stream",
     "text": [
      "其他地区最畅销的游戏top20:\n",
      "序号  标题                销量\n",
      "1   Grand Theft  ...     10.57\n",
      "2   Wii Sports           8.46\n",
      "3   Gran Turismo ...     7.53\n",
      "4   Grand Theft  ...     4.14\n",
      "5   Mario Kart W ...     3.31\n",
      "6   Wii Sports R ...     2.96\n",
      "7   Pro Evolutio ...     2.93\n",
      "8   New Super Ma ...     2.9\n",
      "9   Wii Play              2.85\n",
      "10   Nintendogs           2.75\n",
      "11   Call of Duty ...     2.52\n",
      "12   FIFA Soccer  ...     2.46\n",
      "13   Call of Duty ...     2.31\n",
      "14   New Super Ma ...     2.26\n",
      "15   Wii Fit              2.15\n",
      "16   Gran Turismo ...     2.12\n",
      "17   Brain Age: T ...     2.05\n",
      "18   PES 2009: Pr ...     2.05\n",
      "19   Grand Theft  ...     2.02\n",
      "20   FIFA Soccer  ...     2.01\n"
     ]
    }
   ],
   "source": [
    "print(\"其他地区最畅销的游戏top20:\")\n",
    "print(\"序号 \",\"标题 \",\"             \",\"销量\")\n",
    "df_other=df.sort_values(by='Other_Sales',ascending=False)\n",
    "for i in range(0,20):\n",
    "        if i+1==9 or i+1==15:\n",
    "            print(i+1,\" \",df_other.iloc[i,1],\"            \",df_other.iloc[i,9])\n",
    "        elif i+1==2 or i+1==10:\n",
    "            print(i+1,\" \",df_other.iloc[i,1],\"         \",df_other.iloc[i,9])   \n",
    "        elif len(df_jp.iloc[i,1])<=10:\n",
    "            print(i+1,\" \",df_other.iloc[i,1],\"        \",df_other.iloc[i,9])   \n",
    "        else:\n",
    "            print(i+1,\" \",df_other.iloc[i,1][:12],\"...    \",df_other.iloc[i,9]) \n",
    "\n"
   ]
  },
  {
   "cell_type": "markdown",
   "metadata": {},
   "source": [
    "4.2统计最受欢迎的类型Genre\n",
    "从两个方面统计：频数最高的Genre和总销量最高的Genre\n",
    "4.2.1 频数最高的类别"
   ]
  },
  {
   "cell_type": "code",
   "execution_count": 11,
   "metadata": {},
   "outputs": [
    {
     "name": "stdout",
     "output_type": "stream",
     "text": [
      "频数前十名的类别分别为:\n",
      "Action 3253\n",
      "Sports 2304\n",
      "Misc 1710\n",
      "Role-Playing 1471\n",
      "Shooter 1282\n",
      "Adventure 1276\n",
      "Racing 1226\n",
      "Platform 876\n",
      "Simulation 851\n",
      "Fighting 836\n",
      "genre位于前十名的频率分别为:\n",
      "Action 0.19924052183499724\n",
      "Sports 0.14111594291664115\n",
      "Misc 0.1047344888834446\n",
      "Role-Playing 0.0900961597354076\n",
      "Shooter 0.07852024254302689\n",
      "Adventure 0.07815275310834814\n",
      "Racing 0.07509034115269186\n",
      "Platform 0.05365345746309794\n",
      "Simulation 0.0521222514852698\n",
      "Fighting 0.051203527898572916\n",
      "\n",
      "\n"
     ]
    }
   ],
   "source": [
    "#6.2.1频数最高的类型\n",
    "se_genre=pd.Series(df['Genre'])\n",
    "count_genre=dict(se_genre.value_counts())\n",
    "proport_genre = dict(se_genre.value_counts(normalize=True))\n",
    "print(\"频数前十名的类别分别为:\")\n",
    "for i,(key,value) in enumerate(count_genre.items()):\n",
    "    if i in range(0,10):\n",
    "       print(key,value)\n",
    "print(\"genre位于前十名的频率分别为:\")\n",
    "for i,(key,value) in enumerate(proport_genre.items()):\n",
    "    if i in range(0,10):\n",
    "       print(key,value)\n",
    "print(\"\\n\")"
   ]
  },
  {
   "cell_type": "markdown",
   "metadata": {},
   "source": [
    "4.2.2 总销量最高的类别（按升序排序）"
   ]
  },
  {
   "cell_type": "code",
   "execution_count": 12,
   "metadata": {},
   "outputs": [
    {
     "name": "stdout",
     "output_type": "stream",
     "text": [
      "Genre\n",
      "Strategy         173.43\n",
      "Adventure        234.80\n",
      "Puzzle           242.22\n",
      "Simulation       390.16\n",
      "Fighting         444.05\n",
      "Racing           726.77\n",
      "Misc             797.62\n",
      "Platform         829.15\n",
      "Role-Playing     923.84\n",
      "Shooter         1026.20\n",
      "Sports          1309.24\n",
      "Action          1722.88\n",
      "Name: Global_Sales, dtype: float64\n"
     ]
    }
   ],
   "source": [
    "#6.2.2不同类型销量从低到高排序\n",
    "grouped_genre=df['Global_Sales'].groupby(df['Genre'])\n",
    "grouped_genre_sum=grouped_genre.sum()\n",
    "grouped_genre_sort=grouped_genre_sum.sort_values()\n",
    "print(grouped_genre_sort)"
   ]
  },
  {
   "cell_type": "markdown",
   "metadata": {},
   "source": [
    "4.3 统计最受欢迎的发布平台Platform\n",
    "与类别类似，依旧分两方面统计\n",
    "4.3.1 频数最高的发布平台"
   ]
  },
  {
   "cell_type": "code",
   "execution_count": 13,
   "metadata": {},
   "outputs": [
    {
     "name": "stdout",
     "output_type": "stream",
     "text": [
      "频数前十名的发布平台分别为:\n",
      "DS 2133\n",
      "PS2 2127\n",
      "PS3 1304\n",
      "Wii 1290\n",
      "X360 1235\n",
      "PSP 1197\n",
      "PS 1189\n",
      "PC 943\n",
      "GBA 811\n",
      "XB 803\n",
      "genre位于前十名的频率分别为:\n",
      "DS 0.1306424940282967\n",
      "PS2 0.13027500459361793\n",
      "PS3 0.07986770380351566\n",
      "Wii 0.07901022845593189\n",
      "X360 0.07564157530471\n",
      "PSP 0.07331414221841122\n",
      "PS 0.07282415630550622\n",
      "PC 0.057757089483677346\n",
      "GBA 0.04967232192074478\n",
      "XB 0.04918233600783978\n",
      "\n",
      "\n"
     ]
    }
   ],
   "source": [
    "#6.3.1 频数最高的发布平台\n",
    "se_platform=pd.Series(df['Platform'])\n",
    "count_platform=dict(se_platform.value_counts())\n",
    "proport_platform = dict(se_platform.value_counts(normalize=True))\n",
    "print(\"频数前十名的发布平台分别为:\")\n",
    "for i,(key,value) in enumerate(count_platform.items()):\n",
    "    if i in range(0,10):\n",
    "       print(key,value)\n",
    "print(\"genre位于前十名的频率分别为:\")\n",
    "for i,(key,value) in enumerate(proport_platform.items()):\n",
    "    if i in range(0,10):\n",
    "       print(key,value)\n",
    "print(\"\\n\")"
   ]
  },
  {
   "cell_type": "markdown",
   "metadata": {},
   "source": [
    "4.3.2 总销量最高的发布平台（按升序排序）"
   ]
  },
  {
   "cell_type": "code",
   "execution_count": 14,
   "metadata": {},
   "outputs": [
    {
     "name": "stdout",
     "output_type": "stream",
     "text": [
      "Platform\n",
      "PCFX       0.03\n",
      "GG         0.04\n",
      "3DO        0.10\n",
      "TG16       0.16\n",
      "WS         1.42\n",
      "NG         1.44\n",
      "SCD        1.87\n",
      "DC        15.97\n",
      "GEN       28.36\n",
      "SAT       33.59\n",
      "PSV       61.63\n",
      "WiiU      81.86\n",
      "2600      86.57\n",
      "XOne     141.06\n",
      "GC       197.14\n",
      "SNES     200.05\n",
      "N64      218.21\n",
      "3DS      246.28\n",
      "NES      251.07\n",
      "XB       252.09\n",
      "GB       254.42\n",
      "PC       255.05\n",
      "PS4      278.10\n",
      "PSP      291.71\n",
      "GBA      313.56\n",
      "PS       727.39\n",
      "DS       818.96\n",
      "Wii      909.81\n",
      "PS3      949.35\n",
      "X360     969.61\n",
      "PS2     1233.46\n",
      "Name: Global_Sales, dtype: float64\n"
     ]
    }
   ],
   "source": [
    "#6.3.2 不同发布平台销量从低到高排序\n",
    "grouped_platform=df['Global_Sales'].groupby(df['Platform'])\n",
    "grouped_platform_sum=grouped_platform.sum()\n",
    "grouped_platform_sort=grouped_platform_sum.sort_values()\n",
    "print(grouped_platform_sort)"
   ]
  },
  {
   "cell_type": "markdown",
   "metadata": {},
   "source": [
    "4.4 最受欢迎的发行人\n",
    "与类别、发布平台类似，从两方面进行统计。\n",
    "4.4.1 频数最高的发行人"
   ]
  },
  {
   "cell_type": "code",
   "execution_count": 15,
   "metadata": {},
   "outputs": [
    {
     "name": "stdout",
     "output_type": "stream",
     "text": [
      "频数前十名的发布平台分别为:\n",
      "Electronic Arts 1339\n",
      "Activision 966\n",
      "Namco Bandai Games 928\n",
      "Ubisoft 918\n",
      "Konami Digital Entertainment 823\n",
      "THQ 712\n",
      "Nintendo 696\n",
      "Sony Computer Entertainment 682\n",
      "Sega 632\n",
      "Take-Two Interactive 412\n",
      "genre位于前十名的频率分别为:\n",
      "Electronic Arts 0.08201139217247504\n",
      "Activision 0.05916579898327923\n",
      "Namco Bandai Games 0.056838365896980464\n",
      "Ubisoft 0.05622588350584921\n",
      "Konami Digital Entertainment 0.050407300790102284\n",
      "THQ 0.043608746248545355\n",
      "Nintendo 0.04262877442273535\n",
      "Sony Computer Entertainment 0.04177129907515159\n",
      "Sega 0.038708887119495314\n",
      "Take-Two Interactive 0.025234274514607705\n",
      "\n",
      "\n"
     ]
    }
   ],
   "source": [
    "#6.4.1 频数最高的发行人\n",
    "se_publisher=pd.Series(df['Publisher'])\n",
    "count_publisher=dict(se_publisher.value_counts())\n",
    "proport_publisher = dict(se_publisher.value_counts(normalize=True))\n",
    "print(\"频数前十名的发布平台分别为:\")\n",
    "for i,(key,value) in enumerate(count_publisher.items()):\n",
    "    if i in range(0,10):\n",
    "       print(key,value)\n",
    "print(\"genre位于前十名的频率分别为:\")\n",
    "for i,(key,value) in enumerate(proport_publisher.items()):\n",
    "    if i in range(0,10):\n",
    "       print(key,value)\n",
    "print(\"\\n\")"
   ]
  },
  {
   "cell_type": "markdown",
   "metadata": {},
   "source": [
    "4.4.2 总销量最高的发行人（按升序排序）"
   ]
  },
  {
   "cell_type": "code",
   "execution_count": 16,
   "metadata": {},
   "outputs": [
    {
     "name": "stdout",
     "output_type": "stream",
     "text": [
      "Publisher\n",
      "New World Computing               0.01\n",
      "Ascaron Entertainment             0.01\n",
      "Stainless Games                   0.01\n",
      "Rain Games                        0.01\n",
      "Piacci                            0.01\n",
      "                                ...   \n",
      "Ubisoft                         473.54\n",
      "Sony Computer Entertainment     607.28\n",
      "Activision                      721.41\n",
      "Electronic Arts                1093.39\n",
      "Nintendo                       1784.43\n",
      "Name: Global_Sales, Length: 582, dtype: float64\n"
     ]
    }
   ],
   "source": [
    "#6.4.2 不同发行人销量从低到高排序\n",
    "grouped_publisher=df['Global_Sales'].groupby(df['Publisher'])\n",
    "grouped_publisher_sum=grouped_publisher.sum()\n",
    "grouped_publisher_sort=grouped_publisher_sum.sort_values()\n",
    "print(grouped_publisher_sort)"
   ]
  },
  {
   "cell_type": "markdown",
   "metadata": {},
   "source": [
    "5.预测每年电子游戏销售额（按销售额升序排序）\n",
    "对Year分组，以小组为单位对Global_Sales求和"
   ]
  },
  {
   "cell_type": "code",
   "execution_count": 17,
   "metadata": {},
   "outputs": [
    {
     "name": "stdout",
     "output_type": "stream",
     "text": [
      "Year\n",
      "2017.0      0.05\n",
      "2020.0      0.29\n",
      "1980.0     11.38\n",
      "1983.0     16.79\n",
      "1987.0     21.74\n",
      "1982.0     28.86\n",
      "1991.0     32.23\n",
      "1981.0     35.77\n",
      "1986.0     37.07\n",
      "1993.0     45.98\n",
      "1988.0     47.22\n",
      "1990.0     49.39\n",
      "1984.0     50.36\n",
      "1985.0     53.94\n",
      "2016.0     70.93\n",
      "1989.0     73.45\n",
      "1992.0     76.16\n",
      "1994.0     79.17\n",
      "1995.0     88.11\n",
      "1996.0    199.15\n",
      "1997.0    200.98\n",
      "2000.0    201.56\n",
      "1999.0    251.27\n",
      "1998.0    256.47\n",
      "2015.0    264.44\n",
      "2001.0    331.47\n",
      "2014.0    337.05\n",
      "2003.0    357.85\n",
      "2012.0    363.54\n",
      "2013.0    368.11\n",
      "2002.0    395.52\n",
      "2004.0    419.31\n",
      "2005.0    459.94\n",
      "2011.0    515.99\n",
      "2006.0    521.04\n",
      "2010.0    600.45\n",
      "2007.0    611.13\n",
      "2009.0    667.30\n",
      "2008.0    678.90\n",
      "Name: Global_Sales, dtype: float64\n"
     ]
    }
   ],
   "source": [
    "#7每年电子游戏销售额\n",
    "grouped_year=df['Global_Sales'].groupby(df['Year'])\n",
    "grouped_year_sum=grouped_year.sum()\n",
    "grouped_year_sort=grouped_year_sum.sort_values()\n",
    "print(grouped_year_sort)"
   ]
  },
  {
   "cell_type": "code",
   "execution_count": 22,
   "metadata": {},
   "outputs": [
    {
     "data": {
      "text/plain": [
       "Year\n",
       "2020.0       1\n",
       "2017.0       3\n",
       "1980.0       9\n",
       "1984.0      14\n",
       "1985.0      14\n",
       "1988.0      15\n",
       "1987.0      16\n",
       "1990.0      16\n",
       "1983.0      17\n",
       "1989.0      17\n",
       "1986.0      21\n",
       "1982.0      36\n",
       "1991.0      41\n",
       "1992.0      43\n",
       "1981.0      46\n",
       "1993.0      60\n",
       "1994.0     121\n",
       "1995.0     219\n",
       "1996.0     263\n",
       "1997.0     289\n",
       "1999.0     338\n",
       "2016.0     344\n",
       "2000.0     349\n",
       "1998.0     379\n",
       "2001.0     482\n",
       "2013.0     546\n",
       "2014.0     582\n",
       "2015.0     614\n",
       "2012.0     657\n",
       "2004.0     763\n",
       "2003.0     775\n",
       "2002.0     829\n",
       "2005.0     941\n",
       "2006.0    1008\n",
       "2011.0    1139\n",
       "2007.0    1202\n",
       "2010.0    1259\n",
       "2008.0    1428\n",
       "2009.0    1431\n",
       "Name: Global_Sales, dtype: int64"
      ]
     },
     "execution_count": 22,
     "metadata": {},
     "output_type": "execute_result"
    }
   ],
   "source": [
    "#输出每年发行的游戏数量\n",
    "grouped_year_count=grouped_year.count()\n",
    "grouped_year_sort=grouped_year_count.sort_values()\n",
    "grouped_year_sort"
   ]
  },
  {
   "cell_type": "markdown",
   "metadata": {},
   "source": [
    "6.可视化\n",
    "6.1直方图"
   ]
  },
  {
   "cell_type": "code",
   "execution_count": 29,
   "metadata": {},
   "outputs": [
    {
     "data": {
      "image/png": "[encoded data removed]",
      "text/plain": [
       "<Figure size 432x288 with 1 Axes>"
      ]
     },
     "metadata": {
      "needs_background": "light"
     },
     "output_type": "display_data"
    }
   ],
   "source": [
    "#直方图-前十总销量最高的年份及销量\n",
    "label = ['2008', '2009', '2007', '2010', '2006', '2011','2005', '2004', '2002', '2013']\n",
    "year_sales = [678.90, 667.30, 611.1, 600.5, 521.0, 516.0,459.9, 419.3, 395.5, 368.1]\n",
    "year_count= [1428,1431,1202,1259,1008,1139,941,763,829,546]\n",
    "x = np.arange(len(label))\n",
    "width = 0.35\n",
    "plt.bar(x,year_count,width=width,label=\"game_counts\",color='gold',tick_label=label)\n",
    "plt.plot(x, year_sales, 'ro-', color='mediumslateblue', alpha=0.8, linewidth=2, label='global_sales')\n",
    "\n",
    "# 显示在图形上的值\n",
    "for a, b in zip(x, year_count):\n",
    "    plt.text(a, b + 0.005, b, ha='center', va='bottom')\n",
    "for a, b in zip(x, year_sales):\n",
    "    plt.text(a, b + 0.005, b, ha='center', va='bottom')\n",
    "# for a, b in zip(x, lmr_r):\n",
    "#     plt.text(a + width, b + 0.005, b, ha='center', va='bottom')\n",
    "\n",
    "plt.xticks()\n",
    "plt.legend(loc=\"upper right\")  # 防止label和图像重合显示不出来\n",
    "plt.xlabel('Year')\n",
    "plt.ylabel('Global Sales')\n",
    "title_str = \"top10_Year_Global Sales\"\n",
    "plt.title(title_str)\n",
    "plt.show()"
   ]
  },
  {
   "cell_type": "markdown",
   "metadata": {},
   "source": [
    "6.2 盒图"
   ]
  },
  {
   "cell_type": "code",
   "execution_count": 59,
   "metadata": {},
   "outputs": [
    {
     "data": {
      "image/png": "[encoded data removed]",
      "text/plain": [
       "<Figure size 432x288 with 1 Axes>"
      ]
     },
     "metadata": {
      "needs_background": "light"
     },
     "output_type": "display_data"
    }
   ],
   "source": [
    "na=[23.2,15.85,15.75,14.97,14.59,14.03,12.78,11.38,11.27,10.83,9.81,9.67,9.63,9.54,9.43,\n",
    "   9.09,9.07]\n",
    "eu=[11.0,9.27,9.26,9.23,9.2,8.89,8.59,8.03,7.57,7.06,6.42,6.21,6.18,6.06,5.88,5.82,5.81]\n",
    "jp=[6.5,6.04,5.65,5.38,5.33,5.32,4.87,4.7,4.36,4.35,4.34,4.22,4.18,4.16,4.13,4.13,4.1]\n",
    "other=[4.14,3.31,2.96,2.93,2.9,2.85,2.7,2.52,2.46,2.31,2.26,2.15,2.12,2.05,2.05,2.02,2.01]\n",
    "gb=[33.0,31.37,30.26,30.01,29.02,28.62,28.31,24.76,23.42,23.1,22.72,22.0,21.82,21.4,20.81,\n",
    "   20.61,20.22]\n",
    "def drawbox2(na,eu,jp,other,gb):\n",
    "    tang_data = [na,eu,jp,other,gb]\n",
    "\n",
    "    #axes = plt.plot(nrows=1, ncols=1, figsize=(12, 5))\n",
    "    \n",
    "    # 绘制分类散点图\n",
    "    # INPUT  -> 分组列, 统计列\n",
    "\n",
    "    # 添加分布散点图 boxplot with jitter\n",
    "\n",
    "    color_boxes = ['mistyrose','papayawhip','honeydew','aliceblue','lavender'] # 盒图填充颜色\n",
    "\n",
    "    ###############################################################\n",
    "\n",
    "    f = plt.boxplot(tang_data,patch_artist=True,showfliers=None)\n",
    "\n",
    "    # 这里共有四个box\n",
    "    color_edge=['lightcoral','gold','yellowgreen','dodgerblue','blueviolet']\n",
    "    for box, cb,ce in zip(f['boxes'], color_boxes,color_edge):\n",
    "        # 箱体边框颜色\n",
    "        box.set(color=ce, linewidth=2)\n",
    "        # 箱体内部填充颜色\n",
    "        box.set(facecolor=cb)\n",
    "\n",
    "    color_w=['rosybrown','rosybrown','burlywood','burlywood','y','y','steelblue','steelblue',\n",
    "            'mediumpurple','mediumpurple']\n",
    "    # 这里设置的是各个box的其他属性\n",
    "    for whisker,cw in zip(f['whiskers'],color_w):\n",
    "        whisker.set(color=cw, linewidth=2,alpha=0.8)\n",
    "    color_c = ['rosybrown','rosybrown','burlywood','burlywood','y','y','steelblue','steelblue',\n",
    "              'mediumpurple','mediumpurple']\n",
    "    for cap,cc in zip(f['caps'],color_c):\n",
    "        cap.set(color=cc, linewidth=3,alpha=0.8)\n",
    "    #中位线\n",
    "    color_median=['darkred','darkgoldenrod','darkolivegreen','DarkBlue','indigo']\n",
    "    for median,cm in zip(f['medians'],color_median):\n",
    "        median.set(color=cm, linewidth=3)\n",
    "\n",
    "    for flier in f['fliers']:\n",
    "        flier.set(marker='x', color='w', alpha=0.5)\n",
    "    #####################################################\n",
    "    plt.title('Different regions Sales_box plot')\n",
    "\n",
    "    # for ax in axes:\n",
    "    # 对y轴加上网格\n",
    "\n",
    "    # 对每个图加上xticks操作\n",
    "    plt.ylabel('Sales')\n",
    "    ticks = '1NEJOG'\n",
    "    plt.xticks(range(6),ticks)\n",
    "    plt.plot()\n",
    "    plt.show()\n",
    "    \n",
    "drawbox2(na,eu,jp,other,gb)"
   ]
  },
  {
   "cell_type": "code",
   "execution_count": null,
   "metadata": {},
   "outputs": [],
   "source": []
  }
 ],
 "metadata": {
  "kernelspec": {
   "display_name": "Python 3",
   "language": "python",
   "name": "python3"
  },
  "language_info": {
   "codemirror_mode": {
    "name": "ipython",
    "version": 3
   },
   "file_extension": ".py",
   "mimetype": "text/x-python",
   "name": "python",
   "nbconvert_exporter": "python",
   "pygments_lexer": "ipython3",
   "version": "3.7.6"
  }
 },
 "nbformat": 4,
 "nbformat_minor": 4
}
